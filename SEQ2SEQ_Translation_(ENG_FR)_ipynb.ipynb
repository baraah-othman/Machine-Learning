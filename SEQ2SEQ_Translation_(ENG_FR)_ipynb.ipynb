{
  "cells": [
    {
      "cell_type": "markdown",
      "source": [
        "We start by importing numpy and pandas"
      ],
      "metadata": {
        "id": "4_j1ZzS3v6N3"
      }
    },
    {
      "cell_type": "code",
      "execution_count": null,
      "metadata": {
        "id": "n0IARXAX1e1m"
      },
      "outputs": [],
      "source": [
        "import pandas as pd\n",
        "import numpy as np"
      ]
    },
    {
      "cell_type": "markdown",
      "source": [
        "We read the english sentences in a dataframe named \"english\", and the french sentences in a dataframe named \"french\""
      ],
      "metadata": {
        "id": "BaPr0N8cwGAv"
      }
    },
    {
      "cell_type": "code",
      "execution_count": null,
      "metadata": {
        "id": "kFj8gkP01lGT"
      },
      "outputs": [],
      "source": [
        "# Read English sentences into a dataframe\n",
        "with open('/content/machine_learning_certification/Challenge 7/en.csv', 'r') as file:\n",
        "    english_sentences = file.readlines()\n",
        "\n",
        "english = pd.DataFrame({'English Sentences': english_sentences})\n"
      ]
    },
    {
      "cell_type": "code",
      "execution_count": null,
      "metadata": {
        "id": "P4A7ZKt32A7s"
      },
      "outputs": [],
      "source": [
        "# Read French sentences into a dataframe\n",
        "with open('/content/machine_learning_certification/Challenge 7/fr.csv', 'r') as file:\n",
        "    french_sentences = file.readlines()\n",
        "\n",
        "french = pd.DataFrame({'French Sentences': french_sentences})"
      ]
    },
    {
      "cell_type": "markdown",
      "source": [
        "**How many sentences does each of the files contain?**"
      ],
      "metadata": {
        "id": "jr8OO1OhwSp4"
      }
    },
    {
      "cell_type": "code",
      "execution_count": null,
      "metadata": {
        "id": "XhWJP-b02HKq",
        "colab": {
          "base_uri": "https://localhost:8080/"
        },
        "outputId": "8c5f77d5-acbd-481e-b88b-a77ee3ea57a7"
      },
      "outputs": [
        {
          "output_type": "stream",
          "name": "stdout",
          "text": [
            "Number of sentences in English dataframe: 137860\n",
            "Number of sentences in French dataframe: 137860\n"
          ]
        }
      ],
      "source": [
        "# Check the number of sentences in the English dataframe\n",
        "num_english_sentences = english.shape[0]\n",
        "\n",
        "# Check the number of sentences in the French dataframe\n",
        "num_french_sentences = french.shape[0]\n",
        "\n",
        "print(f\"Number of sentences in English dataframe: {num_english_sentences}\")\n",
        "print(f\"Number of sentences in French dataframe: {num_french_sentences}\")"
      ]
    },
    {
      "cell_type": "markdown",
      "source": [
        "Now we concatenate the 2 dataframes into one dataframe that we call **df** where one column has the english senetnces and the other has the french sentences"
      ],
      "metadata": {
        "id": "ITGJN5tIwkDO"
      }
    },
    {
      "cell_type": "code",
      "execution_count": null,
      "metadata": {
        "id": "-ZXxahsB2njn"
      },
      "outputs": [],
      "source": [
        "# Concatenate the two dataframes into 'df' with English and French sentences columns\n",
        "df = pd.concat([english, french], axis=1)"
      ]
    },
    {
      "cell_type": "code",
      "source": [
        "import pandas as pd\n",
        "\n",
        "# Randomly sample 50,000 rows\n",
        "sampled_df = df.sample(n=10000, random_state=42)"
      ],
      "metadata": {
        "id": "onGerdG_8HMG"
      },
      "execution_count": null,
      "outputs": []
    },
    {
      "cell_type": "code",
      "source": [
        "sampled_df.shape"
      ],
      "metadata": {
        "colab": {
          "base_uri": "https://localhost:8080/"
        },
        "id": "EgvOOHVK8NMo",
        "outputId": "60f6cdec-61f2-4d8f-d059-ea0e449805b2"
      },
      "execution_count": null,
      "outputs": [
        {
          "output_type": "execute_result",
          "data": {
            "text/plain": [
              "(10000, 2)"
            ]
          },
          "metadata": {},
          "execution_count": 56
        }
      ]
    },
    {
      "cell_type": "markdown",
      "source": [
        "Let's name the columns as **English** and **French** so that we access them easier."
      ],
      "metadata": {
        "id": "nAr_caXkwwE7"
      }
    },
    {
      "cell_type": "code",
      "execution_count": null,
      "metadata": {
        "id": "eOHiQDXx3jFS"
      },
      "outputs": [],
      "source": [
        "# Rename the columns to 'English' and 'French'\n",
        "sampled_df.columns = ['English', 'French']"
      ]
    },
    {
      "cell_type": "markdown",
      "source": [
        "Pick a sentence and print it in both languages"
      ],
      "metadata": {
        "id": "4xc1TsEHw9yC"
      }
    },
    {
      "cell_type": "code",
      "execution_count": null,
      "metadata": {
        "id": "QuRVWch23ujo",
        "colab": {
          "base_uri": "https://localhost:8080/"
        },
        "outputId": "4cdff7f4-7893-4908-f62c-cf917af0cc4b"
      },
      "outputs": [
        {
          "output_type": "stream",
          "name": "stdout",
          "text": [
            "English:  \"he dislikes strawberries , oranges , and pears .\"\n",
            "\n",
            "French:  \"il n'aime les fraises , les oranges et les poires .\"\n",
            "\n"
          ]
        }
      ],
      "source": [
        "# Pick a random row from the dataframe\n",
        "random_row = sampled_df.sample(n=1)\n",
        "\n",
        "# Extract the English and French sentences from the selected row\n",
        "english_sentence = random_row['English'].values[0]\n",
        "french_sentence = random_row['French'].values[0]\n",
        "\n",
        "# Print the sentences in both languages\n",
        "print(\"English: \", english_sentence)\n",
        "print(\"French: \", french_sentence)"
      ]
    },
    {
      "cell_type": "markdown",
      "source": [
        "##Cleaning Data"
      ],
      "metadata": {
        "id": "FQjXYP1txFCi"
      }
    },
    {
      "cell_type": "markdown",
      "source": [
        "The data that we have is almost clean as we can see, we just need to remove the punctuations inside of it."
      ],
      "metadata": {
        "id": "xgz6jIoVxHUF"
      }
    },
    {
      "cell_type": "code",
      "execution_count": null,
      "metadata": {
        "id": "6YYOt5QftcFI"
      },
      "outputs": [],
      "source": [
        "import string\n",
        "import re\n",
        "\n",
        "# Define a function to remove punctuation from a sentence\n",
        "def remove_punctuation(text):\n",
        "    text = re.sub(r'[{}]'.format(string.punctuation), '', text)\n",
        "    return text\n",
        "\n",
        "# Apply the remove_punctuation function to the English and French sentence columns\n",
        "sampled_df['English'] = sampled_df['English'].apply(remove_punctuation)\n",
        "sampled_df['French'] = sampled_df['French'].apply(remove_punctuation)"
      ]
    },
    {
      "cell_type": "markdown",
      "source": [
        "Make sure that the punctuation is removed by printing the example that you printed earlier."
      ],
      "metadata": {
        "id": "0C1qsC9LxZPb"
      }
    },
    {
      "cell_type": "code",
      "execution_count": null,
      "metadata": {
        "id": "T80tiWxe84G7",
        "colab": {
          "base_uri": "https://localhost:8080/"
        },
        "outputId": "7ee5f673-c3a5-431e-c11d-c90869aeaa6e"
      },
      "outputs": [
        {
          "output_type": "stream",
          "name": "stdout",
          "text": [
            "English:  she dislikes limes  peaches  and bananas\n",
            "French:  elle déteste citrons verts  les pêches et les bananes \n"
          ]
        }
      ],
      "source": [
        "data ={ 'English' :[\"she dislikes limes , peaches , and bananas.\"],\n",
        "   'French': [\"elle déteste citrons verts , les pêches et les bananes .\"] }\n",
        "df2 = pd.DataFrame(data)\n",
        "df2['English'] = df2['English'].apply(remove_punctuation)\n",
        "df2['French'] = df2['French'].apply(remove_punctuation)\n",
        "\n",
        "# Print the sentences without punctuation\n",
        "for index, row in df2.iterrows():\n",
        "    print(\"English: \", row['English'])\n",
        "    print(\"French: \", row['French'])"
      ]
    },
    {
      "cell_type": "markdown",
      "source": [
        "##Exploring the Data"
      ],
      "metadata": {
        "id": "ZuFNjoBAx4oN"
      }
    },
    {
      "cell_type": "markdown",
      "source": [
        "Add a column **ENG Length** to the dataset that shows how many words does a sentence contain, and do the same for french in a column called **FR Length**"
      ],
      "metadata": {
        "id": "ATfefzPExi2k"
      }
    },
    {
      "cell_type": "code",
      "execution_count": null,
      "metadata": {
        "id": "Dakeo81s352S"
      },
      "outputs": [],
      "source": [
        "# Function to count the number of words in a sentence\n",
        "def count_words(sentence):\n",
        "    words = sentence.split()\n",
        "    return len(words)\n",
        "\n",
        "# Add a column 'ENG Length' to represent the number of words in English sentences\n",
        "sampled_df['ENG Length'] = sampled_df['English'].apply(count_words)\n"
      ]
    },
    {
      "cell_type": "code",
      "execution_count": null,
      "metadata": {
        "id": "49keasjaPaaK"
      },
      "outputs": [],
      "source": [
        "# Add a column 'FR Length' to represent the number of words in French sentences\n",
        "sampled_df['FR Length'] = sampled_df['French'].apply(count_words)"
      ]
    },
    {
      "cell_type": "markdown",
      "source": [
        "Visualize the distribution of the lengths of english sentences and french sentences."
      ],
      "metadata": {
        "id": "AjQLW0K5xwx1"
      }
    },
    {
      "cell_type": "code",
      "execution_count": null,
      "metadata": {
        "id": "_q_UIMJ09L24",
        "colab": {
          "base_uri": "https://localhost:8080/",
          "height": 607
        },
        "outputId": "e36d55d1-1f53-40c6-e777-6164ac76a1b9"
      },
      "outputs": [
        {
          "output_type": "display_data",
          "data": {
            "text/plain": [
              "<Figure size 1200x600 with 1 Axes>"
            ],
            "image/png": "[encoded data removed]"
          },
          "metadata": {}
        }
      ],
      "source": [
        "import matplotlib.pyplot as plt\n",
        "plt.figure(figsize=(12, 6))\n",
        "\n",
        "plt.subplot(1, 2, 1)\n",
        "plt.hist(sampled_df['ENG Length'], bins=10, color='pink', alpha=0.7)\n",
        "plt.title('English Sentence Length Distribution')\n",
        "plt.xlabel('Number of Words')\n",
        "plt.ylabel('Frequency')\n",
        "plt.tight_layout()\n",
        "plt.show()"
      ]
    },
    {
      "cell_type": "code",
      "execution_count": null,
      "metadata": {
        "id": "TSn4L7kW9R7g",
        "colab": {
          "base_uri": "https://localhost:8080/",
          "height": 487
        },
        "outputId": "f17558db-a716-4e8d-dbd8-e01d55039edc"
      },
      "outputs": [
        {
          "output_type": "display_data",
          "data": {
            "text/plain": [
              "<Figure size 640x480 with 1 Axes>"
            ],
            "image/png": "[encoded data removed]"
          },
          "metadata": {}
        }
      ],
      "source": [
        "plt.subplot(1, 2, 2)\n",
        "plt.hist(sampled_df['FR Length'], bins=10, color='orange', alpha=0.7)\n",
        "plt.title('French Sentence Length Distribution')\n",
        "plt.xlabel('Number of Words')\n",
        "plt.ylabel('Frequency')\n",
        "plt.tight_layout()\n",
        "plt.show()"
      ]
    },
    {
      "cell_type": "markdown",
      "source": [
        "Get the maximum length of an english sentence and the maximum length of a french sentence."
      ],
      "metadata": {
        "id": "BDXb2d9ix9DV"
      }
    },
    {
      "cell_type": "code",
      "execution_count": null,
      "metadata": {
        "id": "BpnBB04U_lHd",
        "colab": {
          "base_uri": "https://localhost:8080/"
        },
        "outputId": "10e049e3-a273-4133-e2f0-6fe354562f75"
      },
      "outputs": [
        {
          "output_type": "stream",
          "name": "stdout",
          "text": [
            "Maximum length of an English sentence: 15\n",
            "Maximum length of a French sentence: 19\n"
          ]
        }
      ],
      "source": [
        "#the maximum length of an English sentence\n",
        "max_eng_length = sampled_df['ENG Length'].max()\n",
        "\n",
        "#the maximum length of a French sentence\n",
        "max_fr_length = sampled_df['FR Length'].max()\n",
        "\n",
        "print(\"Maximum length of an English sentence:\", max_eng_length)\n",
        "print(\"Maximum length of a French sentence:\", max_fr_length)"
      ]
    },
    {
      "cell_type": "code",
      "source": [
        "sampled_df.head()"
      ],
      "metadata": {
        "colab": {
          "base_uri": "https://localhost:8080/",
          "height": 206
        },
        "id": "z7aSQ1NquDlM",
        "outputId": "00f8f9a9-2340-4a1b-c865-225fa89117bd"
      },
      "execution_count": null,
      "outputs": [
        {
          "output_type": "execute_result",
          "data": {
            "text/plain": [
              "                                                  English  \\\n",
              "108643  china is usually busy during september  but it...   \n",
              "130378                   he dislikes pears and peaches \\n   \n",
              "49480   the united states is sometimes rainy during ja...   \n",
              "97455   california is mild during march  but it is som...   \n",
              "50632             he dislikes mangoes and strawberries \\n   \n",
              "\n",
              "                                                   French  ENG Length  \\\n",
              "108643  chine est généralement occupé en septembre  ma...          13   \n",
              "130378            il aime pas les poires et les pêches \\n           5   \n",
              "49480   les étatsunis est parfois pluvieux en janvier ...          14   \n",
              "97455   california est doux au mois de mars  mais il e...          12   \n",
              "50632              il naime les mangues et les fraises \\n           5   \n",
              "\n",
              "        FR Length  \n",
              "108643         13  \n",
              "130378          8  \n",
              "49480          13  \n",
              "97455          14  \n",
              "50632           7  "
            ],
            "text/html": [
              "\n",
              "  <div id=\"df-d64c86cc-ddd6-4306-a191-dd755924237e\" class=\"colab-df-container\">\n",
              "    <div>\n",
              "<style scoped>\n",
              "    .dataframe tbody tr th:only-of-type {\n",
              "        vertical-align: middle;\n",
              "    }\n",
              "\n",
              "    .dataframe tbody tr th {\n",
              "        vertical-align: top;\n",
              "    }\n",
              "\n",
              "    .dataframe thead th {\n",
              "        text-align: right;\n",
              "    }\n",
              "</style>\n",
              "<table border=\"1\" class=\"dataframe\">\n",
              "  <thead>\n",
              "    <tr style=\"text-align: right;\">\n",
              "      <th></th>\n",
              "      <th>English</th>\n",
              "      <th>French</th>\n",
              "      <th>ENG Length</th>\n",
              "      <th>FR Length</th>\n",
              "    </tr>\n",
              "  </thead>\n",
              "  <tbody>\n",
              "    <tr>\n",
              "      <th>108643</th>\n",
              "      <td>china is usually busy during september  but it...</td>\n",
              "      <td>chine est généralement occupé en septembre  ma...</td>\n",
              "      <td>13</td>\n",
              "      <td>13</td>\n",
              "    </tr>\n",
              "    <tr>\n",
              "      <th>130378</th>\n",
              "      <td>he dislikes pears and peaches \\n</td>\n",
              "      <td>il aime pas les poires et les pêches \\n</td>\n",
              "      <td>5</td>\n",
              "      <td>8</td>\n",
              "    </tr>\n",
              "    <tr>\n",
              "      <th>49480</th>\n",
              "      <td>the united states is sometimes rainy during ja...</td>\n",
              "      <td>les étatsunis est parfois pluvieux en janvier ...</td>\n",
              "      <td>14</td>\n",
              "      <td>13</td>\n",
              "    </tr>\n",
              "    <tr>\n",
              "      <th>97455</th>\n",
              "      <td>california is mild during march  but it is som...</td>\n",
              "      <td>california est doux au mois de mars  mais il e...</td>\n",
              "      <td>12</td>\n",
              "      <td>14</td>\n",
              "    </tr>\n",
              "    <tr>\n",
              "      <th>50632</th>\n",
              "      <td>he dislikes mangoes and strawberries \\n</td>\n",
              "      <td>il naime les mangues et les fraises \\n</td>\n",
              "      <td>5</td>\n",
              "      <td>7</td>\n",
              "    </tr>\n",
              "  </tbody>\n",
              "</table>\n",
              "</div>\n",
              "    <div class=\"colab-df-buttons\">\n",
              "\n",
              "  <div class=\"colab-df-container\">\n",
              "    <button class=\"colab-df-convert\" onclick=\"convertToInteractive('df-d64c86cc-ddd6-4306-a191-dd755924237e')\"\n",
              "            title=\"Convert this dataframe to an interactive table.\"\n",
              "            style=\"display:none;\">\n",
              "\n",
              "  <svg xmlns=\"http://www.w3.org/2000/svg\" height=\"24px\" viewBox=\"0 -960 960 960\">\n",
              "    <path d=\"M120-120v-720h720v720H120Zm60-500h600v-160H180v160Zm220 220h160v-160H400v160Zm0 220h160v-160H400v160ZM180-400h160v-160H180v160Zm440 0h160v-160H620v160ZM180-180h160v-160H180v160Zm440 0h160v-160H620v160Z\"/>\n",
              "  </svg>\n",
              "    </button>\n",
              "\n",
              "  <style>\n",
              "    .colab-df-container {\n",
              "      display:flex;\n",
              "      gap: 12px;\n",
              "    }\n",
              "\n",
              "    .colab-df-convert {\n",
              "      background-color: #E8F0FE;\n",
              "      border: none;\n",
              "      border-radius: 50%;\n",
              "      cursor: pointer;\n",
              "      display: none;\n",
              "      fill: #1967D2;\n",
              "      height: 32px;\n",
              "      padding: 0 0 0 0;\n",
              "      width: 32px;\n",
              "    }\n",
              "\n",
              "    .colab-df-convert:hover {\n",
              "      background-color: #E2EBFA;\n",
              "      box-shadow: 0px 1px 2px rgba(60, 64, 67, 0.3), 0px 1px 3px 1px rgba(60, 64, 67, 0.15);\n",
              "      fill: #174EA6;\n",
              "    }\n",
              "\n",
              "    .colab-df-buttons div {\n",
              "      margin-bottom: 4px;\n",
              "    }\n",
              "\n",
              "    [theme=dark] .colab-df-convert {\n",
              "      background-color: #3B4455;\n",
              "      fill: #D2E3FC;\n",
              "    }\n",
              "\n",
              "    [theme=dark] .colab-df-convert:hover {\n",
              "      background-color: #434B5C;\n",
              "      box-shadow: 0px 1px 3px 1px rgba(0, 0, 0, 0.15);\n",
              "      filter: drop-shadow(0px 1px 2px rgba(0, 0, 0, 0.3));\n",
              "      fill: #FFFFFF;\n",
              "    }\n",
              "  </style>\n",
              "\n",
              "    <script>\n",
              "      const buttonEl =\n",
              "        document.querySelector('#df-d64c86cc-ddd6-4306-a191-dd755924237e button.colab-df-convert');\n",
              "      buttonEl.style.display =\n",
              "        google.colab.kernel.accessAllowed ? 'block' : 'none';\n",
              "\n",
              "      async function convertToInteractive(key) {\n",
              "        const element = document.querySelector('#df-d64c86cc-ddd6-4306-a191-dd755924237e');\n",
              "        const dataTable =\n",
              "          await google.colab.kernel.invokeFunction('convertToInteractive',\n",
              "                                                    [key], {});\n",
              "        if (!dataTable) return;\n",
              "\n",
              "        const docLinkHtml = 'Like what you see? Visit the ' +\n",
              "          '<a target=\"_blank\" href=https://colab.research.google.com/notebooks/data_table.ipynb>data table notebook</a>'\n",
              "          + ' to learn more about interactive tables.';\n",
              "        element.innerHTML = '';\n",
              "        dataTable['output_type'] = 'display_data';\n",
              "        await google.colab.output.renderOutput(dataTable, element);\n",
              "        const docLink = document.createElement('div');\n",
              "        docLink.innerHTML = docLinkHtml;\n",
              "        element.appendChild(docLink);\n",
              "      }\n",
              "    </script>\n",
              "  </div>\n",
              "\n",
              "\n",
              "<div id=\"df-29a6bbd5-58c2-4f52-9420-02d89d61e4c9\">\n",
              "  <button class=\"colab-df-quickchart\" onclick=\"quickchart('df-29a6bbd5-58c2-4f52-9420-02d89d61e4c9')\"\n",
              "            title=\"Suggest charts.\"\n",
              "            style=\"display:none;\">\n",
              "\n",
              "<svg xmlns=\"http://www.w3.org/2000/svg\" height=\"24px\"viewBox=\"0 0 24 24\"\n",
              "     width=\"24px\">\n",
              "    <g>\n",
              "        <path d=\"M19 3H5c-1.1 0-2 .9-2 2v14c0 1.1.9 2 2 2h14c1.1 0 2-.9 2-2V5c0-1.1-.9-2-2-2zM9 17H7v-7h2v7zm4 0h-2V7h2v10zm4 0h-2v-4h2v4z\"/>\n",
              "    </g>\n",
              "</svg>\n",
              "  </button>\n",
              "\n",
              "<style>\n",
              "  .colab-df-quickchart {\n",
              "      --bg-color: #E8F0FE;\n",
              "      --fill-color: #1967D2;\n",
              "      --hover-bg-color: #E2EBFA;\n",
              "      --hover-fill-color: #174EA6;\n",
              "      --disabled-fill-color: #AAA;\n",
              "      --disabled-bg-color: #DDD;\n",
              "  }\n",
              "\n",
              "  [theme=dark] .colab-df-quickchart {\n",
              "      --bg-color: #3B4455;\n",
              "      --fill-color: #D2E3FC;\n",
              "      --hover-bg-color: #434B5C;\n",
              "      --hover-fill-color: #FFFFFF;\n",
              "      --disabled-bg-color: #3B4455;\n",
              "      --disabled-fill-color: #666;\n",
              "  }\n",
              "\n",
              "  .colab-df-quickchart {\n",
              "    background-color: var(--bg-color);\n",
              "    border: none;\n",
              "    border-radius: 50%;\n",
              "    cursor: pointer;\n",
              "    display: none;\n",
              "    fill: var(--fill-color);\n",
              "    height: 32px;\n",
              "    padding: 0;\n",
              "    width: 32px;\n",
              "  }\n",
              "\n",
              "  .colab-df-quickchart:hover {\n",
              "    background-color: var(--hover-bg-color);\n",
              "    box-shadow: 0 1px 2px rgba(60, 64, 67, 0.3), 0 1px 3px 1px rgba(60, 64, 67, 0.15);\n",
              "    fill: var(--button-hover-fill-color);\n",
              "  }\n",
              "\n",
              "  .colab-df-quickchart-complete:disabled,\n",
              "  .colab-df-quickchart-complete:disabled:hover {\n",
              "    background-color: var(--disabled-bg-color);\n",
              "    fill: var(--disabled-fill-color);\n",
              "    box-shadow: none;\n",
              "  }\n",
              "\n",
              "  .colab-df-spinner {\n",
              "    border: 2px solid var(--fill-color);\n",
              "    border-color: transparent;\n",
              "    border-bottom-color: var(--fill-color);\n",
              "    animation:\n",
              "      spin 1s steps(1) infinite;\n",
              "  }\n",
              "\n",
              "  @keyframes spin {\n",
              "    0% {\n",
              "      border-color: transparent;\n",
              "      border-bottom-color: var(--fill-color);\n",
              "      border-left-color: var(--fill-color);\n",
              "    }\n",
              "    20% {\n",
              "      border-color: transparent;\n",
              "      border-left-color: var(--fill-color);\n",
              "      border-top-color: var(--fill-color);\n",
              "    }\n",
              "    30% {\n",
              "      border-color: transparent;\n",
              "      border-left-color: var(--fill-color);\n",
              "      border-top-color: var(--fill-color);\n",
              "      border-right-color: var(--fill-color);\n",
              "    }\n",
              "    40% {\n",
              "      border-color: transparent;\n",
              "      border-right-color: var(--fill-color);\n",
              "      border-top-color: var(--fill-color);\n",
              "    }\n",
              "    60% {\n",
              "      border-color: transparent;\n",
              "      border-right-color: var(--fill-color);\n",
              "    }\n",
              "    80% {\n",
              "      border-color: transparent;\n",
              "      border-right-color: var(--fill-color);\n",
              "      border-bottom-color: var(--fill-color);\n",
              "    }\n",
              "    90% {\n",
              "      border-color: transparent;\n",
              "      border-bottom-color: var(--fill-color);\n",
              "    }\n",
              "  }\n",
              "</style>\n",
              "\n",
              "  <script>\n",
              "    async function quickchart(key) {\n",
              "      const quickchartButtonEl =\n",
              "        document.querySelector('#' + key + ' button');\n",
              "      quickchartButtonEl.disabled = true;  // To prevent multiple clicks.\n",
              "      quickchartButtonEl.classList.add('colab-df-spinner');\n",
              "      try {\n",
              "        const charts = await google.colab.kernel.invokeFunction(\n",
              "            'suggestCharts', [key], {});\n",
              "      } catch (error) {\n",
              "        console.error('Error during call to suggestCharts:', error);\n",
              "      }\n",
              "      quickchartButtonEl.classList.remove('colab-df-spinner');\n",
              "      quickchartButtonEl.classList.add('colab-df-quickchart-complete');\n",
              "    }\n",
              "    (() => {\n",
              "      let quickchartButtonEl =\n",
              "        document.querySelector('#df-29a6bbd5-58c2-4f52-9420-02d89d61e4c9 button');\n",
              "      quickchartButtonEl.style.display =\n",
              "        google.colab.kernel.accessAllowed ? 'block' : 'none';\n",
              "    })();\n",
              "  </script>\n",
              "</div>\n",
              "    </div>\n",
              "  </div>\n"
            ]
          },
          "metadata": {},
          "execution_count": 64
        }
      ]
    },
    {
      "cell_type": "markdown",
      "source": [
        "##Preprocessing the Data"
      ],
      "metadata": {
        "id": "s4s-spsRyGJv"
      }
    },
    {
      "cell_type": "markdown",
      "source": [
        "In order for the data to be fed to the model, it has to be tokenized and padded."
      ],
      "metadata": {
        "id": "N0ZmIT2GyJMU"
      }
    },
    {
      "cell_type": "markdown",
      "source": [
        "####Tokenization"
      ],
      "metadata": {
        "id": "R0r9z-eErm9H"
      }
    },
    {
      "cell_type": "markdown",
      "source": [
        "Tokenize the sentences that we have."
      ],
      "metadata": {
        "id": "814mKDFiymcY"
      }
    },
    {
      "cell_type": "code",
      "source": [
        "!pip install transformers\n"
      ],
      "metadata": {
        "id": "zjFhNCtE1AJF"
      },
      "execution_count": null,
      "outputs": []
    },
    {
      "cell_type": "code",
      "source": [
        "import nltk\n",
        "nltk.download('punkt')\n",
        "from nltk.tokenize import word_tokenize\n",
        "\n",
        "# Initialize a list to store the tokenized words\n",
        "english_tokens_list = []\n",
        "\n",
        "for text in sampled_df['English']:\n",
        "    # Tokenize the sentence into words and append to the list\n",
        "    english_tokens_list.append(word_tokenize(text))\n",
        "\n",
        "tokenized_english= english_tokens_list\n"
      ],
      "metadata": {
        "id": "oeg5orGpy6HY",
        "colab": {
          "base_uri": "https://localhost:8080/"
        },
        "outputId": "a673f6e5-2bdd-45c4-9039-330883ac757c"
      },
      "execution_count": null,
      "outputs": [
        {
          "output_type": "stream",
          "name": "stderr",
          "text": [
            "[nltk_data] Downloading package punkt to /root/nltk_data...\n",
            "[nltk_data]   Package punkt is already up-to-date!\n"
          ]
        }
      ]
    },
    {
      "cell_type": "code",
      "source": [
        "import nltk\n",
        "nltk.download('punkt')\n",
        "from nltk.tokenize import word_tokenize\n",
        "\n",
        "# Initialize a list to store the tokenized words\n",
        "french_tokens_list = []\n",
        "\n",
        "for text in sampled_df['French']:\n",
        "    # Tokenize the sentence into words and append to the list\n",
        "    french_tokens_list.append(word_tokenize(text))\n",
        "\n",
        "tokenized_french = french_tokens_list\n"
      ],
      "metadata": {
        "colab": {
          "base_uri": "https://localhost:8080/"
        },
        "id": "Pazm1vYk-_7W",
        "outputId": "8a208f4e-f0d2-402d-b45f-89924f8c5456"
      },
      "execution_count": null,
      "outputs": [
        {
          "output_type": "stream",
          "name": "stderr",
          "text": [
            "[nltk_data] Downloading package punkt to /root/nltk_data...\n",
            "[nltk_data]   Package punkt is already up-to-date!\n"
          ]
        }
      ]
    },
    {
      "cell_type": "markdown",
      "source": [
        "**How many unique words do we have in english and in french?**"
      ],
      "metadata": {
        "id": "aUN01jDXys9B"
      }
    },
    {
      "cell_type": "code",
      "execution_count": null,
      "metadata": {
        "id": "1WahkdzKvIlO",
        "colab": {
          "base_uri": "https://localhost:8080/"
        },
        "outputId": "e8693ffa-9504-49f9-99f3-663a0732ee5e"
      },
      "outputs": [
        {
          "output_type": "stream",
          "name": "stdout",
          "text": [
            "Number of unique words in English: 198\n",
            "Number of unique words in French: 313\n"
          ]
        }
      ],
      "source": [
        "# Count unique words in English and French\n",
        "unique_words_english = set([word for tokens in tokenized_english for word in tokens])\n",
        "unique_words_french = set([word for tokens in tokenized_french for word in tokens])\n",
        "\n",
        "# Get the number of unique words\n",
        "num_unique_words_english = len(unique_words_english)\n",
        "num_unique_words_french = len(unique_words_french)\n",
        "\n",
        "print(f\"Number of unique words in English: {num_unique_words_english}\")\n",
        "print(f\"Number of unique words in French: {num_unique_words_french}\")"
      ]
    },
    {
      "cell_type": "markdown",
      "source": [
        "####Padding"
      ],
      "metadata": {
        "id": "g0C2RJjArtJd"
      }
    },
    {
      "cell_type": "markdown",
      "source": [
        "Perform padding on the sequences that we have."
      ],
      "metadata": {
        "id": "hRXayRzVzQD4"
      }
    },
    {
      "cell_type": "code",
      "source": [
        "from tensorflow.keras.preprocessing.sequence import pad_sequences\n",
        "from tensorflow.keras.preprocessing.text import Tokenizer\n",
        "\n",
        "# Create a tokenizer\n",
        "tokenizer = Tokenizer()\n",
        "tokenizer.fit_on_texts(tokenized_english)  # Fit on your English tokens\n",
        "\n",
        "# Convert tokens to integer sequences\n",
        "eng_sequences = tokenizer.texts_to_sequences(tokenized_english)\n",
        "max_seq_length = 50\n",
        "# Perform padding on the integer sequences\n",
        "Padded_English = pad_sequences(eng_sequences, maxlen=max_seq_length, padding='post')\n",
        "\n",
        "\n",
        "tokenizer2 = Tokenizer()\n",
        "tokenizer2.fit_on_texts(tokenized_french)\n",
        "\n",
        "# Convert tokens to integer sequences\n",
        "fr_sequences = tokenizer2.texts_to_sequences(tokenized_french)\n",
        "max_seq_length = 50\n",
        "# Perform padding on the integer sequences\n",
        "Padded_French = pad_sequences(fr_sequences, maxlen=max_seq_length, padding='post')\n",
        "\n"
      ],
      "metadata": {
        "id": "0cUGfUmMBXtQ"
      },
      "execution_count": null,
      "outputs": []
    },
    {
      "cell_type": "markdown",
      "source": [
        "##Modeling"
      ],
      "metadata": {
        "id": "JxvvVU3ezUHR"
      }
    },
    {
      "cell_type": "markdown",
      "source": [
        "After preprrocessing the data, we can build our model. Start by building a baseline architecture relying on one directional RNNs, LSTMs, or GRUs. It will be good to lookup how to build Seq2Seq models, there are some new layers that will help you like RepeatVector and TimeDistributed."
      ],
      "metadata": {
        "id": "FEKujJUEzVux"
      }
    },
    {
      "cell_type": "code",
      "source": [
        "from tensorflow.keras.preprocessing.text import Tokenizer\n",
        "from tensorflow.keras.preprocessing.sequence import pad_sequences\n",
        "\n",
        "# Create tokenizers\n",
        "english_tokenizer = Tokenizer()\n",
        "french_tokenizer = Tokenizer()\n",
        "\n",
        "# Fit tokenizers on your training data\n",
        "english_tokenizer.fit_on_texts(tokenized_english)\n",
        "french_tokenizer.fit_on_texts(tokenized_french)\n"
      ],
      "metadata": {
        "id": "R6JVSaRsG0wl"
      },
      "execution_count": null,
      "outputs": []
    },
    {
      "cell_type": "code",
      "source": [
        "import tensorflow as tf\n",
        "from tensorflow.keras.models import Sequential\n",
        "from tensorflow.keras.layers import Embedding, LSTM, RepeatVector, TimeDistributed, Dense\n",
        "\n",
        "\n",
        "#unique_words_english = set(token for seq in english_tokenizer for token in seq)\n",
        "#english_vocab_size = len(unique_words_english) + 1\n",
        "english_vocab_size = len(english_tokenizer.word_index) + 1\n",
        "french_vocab_size = len(french_tokenizer.word_index) + 1\n",
        "\n",
        "#unique_words_french = set(token for seq in french_tokenizer for token in seq)\n",
        "#french_vocab_size = len(unique_words_french) + 1\n",
        "\n",
        "# Create the model\n",
        "model = Sequential()\n",
        "\n",
        "# Add an embedding layer for the input (English)\n",
        "model.add(Embedding(input_dim=english_vocab_size, output_dim=128, input_length=max_seq_length , mask_zero=True))\n",
        "\n",
        "# Add an LSTM layer to process the input sequence\n",
        "model.add(LSTM(256))\n",
        "\n",
        "# Repeat the LSTM output to the same sequence length for the decoder\n",
        "model.add(RepeatVector(max_seq_length))\n",
        "\n",
        "# Add another LSTM layer for the output (French)\n",
        "model.add(LSTM(256, return_sequences=True))\n",
        "\n",
        "# Apply the TimeDistributed layer to output one token at a time\n",
        "model.add(TimeDistributed(Dense(french_vocab_size, activation='softmax')))\n",
        "\n",
        "# Print the model summary\n",
        "model.summary()\n"
      ],
      "metadata": {
        "colab": {
          "base_uri": "https://localhost:8080/"
        },
        "id": "UkRb-Tql09ay",
        "outputId": "64a65adb-cb92-438a-ccc7-94f15c43f48d"
      },
      "execution_count": null,
      "outputs": [
        {
          "output_type": "stream",
          "name": "stdout",
          "text": [
            "Model: \"sequential\"\n",
            "_________________________________________________________________\n",
            " Layer (type)                Output Shape              Param #   \n",
            "=================================================================\n",
            " embedding (Embedding)       (None, 50, 128)           25472     \n",
            "                                                                 \n",
            " lstm (LSTM)                 (None, 256)               394240    \n",
            "                                                                 \n",
            " repeat_vector (RepeatVecto  (None, 50, 256)           0         \n",
            " r)                                                              \n",
            "                                                                 \n",
            " lstm_1 (LSTM)               (None, 50, 256)           525312    \n",
            "                                                                 \n",
            " time_distributed (TimeDist  (None, 50, 313)           80441     \n",
            " ributed)                                                        \n",
            "                                                                 \n",
            "=================================================================\n",
            "Total params: 1025465 (3.91 MB)\n",
            "Trainable params: 1025465 (3.91 MB)\n",
            "Non-trainable params: 0 (0.00 Byte)\n",
            "_________________________________________________________________\n"
          ]
        }
      ]
    },
    {
      "cell_type": "code",
      "source": [
        "import pickle\n",
        "\n",
        "# Save the English tokenizer\n",
        "with open('english_tokenizer.pkl', 'wb') as file:\n",
        "    pickle.dump(english_tokenizer, file)\n",
        "\n"
      ],
      "metadata": {
        "id": "hlll03DsXWjC"
      },
      "execution_count": null,
      "outputs": []
    },
    {
      "cell_type": "code",
      "source": [
        "\n",
        "# Save the French tokenizer\n",
        "with open('french_tokenizer.pkl', 'wb') as file:\n",
        "    pickle.dump(french_tokenizer, file)"
      ],
      "metadata": {
        "id": "Z3aHEMX-YI5q"
      },
      "execution_count": null,
      "outputs": []
    },
    {
      "cell_type": "code",
      "source": [
        "from sklearn.model_selection import train_test_split\n",
        "X_train, X_val, y_train, y_val = train_test_split(Padded_English, Padded_French, test_size=0.2, random_state=42)\n",
        "\n",
        "model.compile(optimizer='adam' , loss='sparse_categorical_crossentropy', metrics=['accuracy'])\n",
        "\n",
        "# Train the model\n",
        "#history = model.fit(Padded_English, Padded_French, epochs=5,  validation_split=0.2, )\n",
        "history = model.fit(X_train, y_train, epochs=5, batch_size=64 ,validation_data=(X_val, y_val))\n"
      ],
      "metadata": {
        "id": "Jkw8-8Pl2C_J"
      },
      "execution_count": null,
      "outputs": []
    },
    {
      "cell_type": "code",
      "source": [
        "model.save(\"model.h5\")"
      ],
      "metadata": {
        "colab": {
          "base_uri": "https://localhost:8080/"
        },
        "id": "yCmx8eb7akZA",
        "outputId": "8a659a7e-9c9a-406e-c234-20632718120d"
      },
      "execution_count": null,
      "outputs": [
        {
          "output_type": "stream",
          "name": "stderr",
          "text": [
            "/usr/local/lib/python3.10/dist-packages/keras/src/engine/training.py:3079: UserWarning: You are saving your model as an HDF5 file via `model.save()`. This file format is considered legacy. We recommend using instead the native Keras format, e.g. `model.save('my_model.keras')`.\n",
            "  saving_api.save_model(\n"
          ]
        }
      ]
    },
    {
      "cell_type": "markdown",
      "source": [
        "Define a function that gets an input sentence in english and gives the output sentence in the french language."
      ],
      "metadata": {
        "id": "9UoEcxyJztiQ"
      }
    },
    {
      "cell_type": "code",
      "source": [
        "def translate_english_to_french(input_sentence, model, english_tokenizer, french_tokenizer, max_seq_length):\n",
        "    # Tokenize and convert the input sentence to integer sequences\n",
        "    input_sequence = english_tokenizer.texts_to_sequences([input_sentence])\n",
        "    input_sequence = pad_sequences(input_sequence, maxlen=max_seq_length, padding='post')\n",
        "    # Use the model to predict the output sequence\n",
        "    output_sequence = model.predict(input_sequence)\n",
        "\n",
        "    # Initialize an empty list to store the predicted words\n",
        "    french_sentence = []\n",
        "\n",
        "    # Process the output sequence\n",
        "    for token in output_sequence[0]:\n",
        "        word_index = np.argmax(token)\n",
        "        if word_index == 0:\n",
        "            break\n",
        "        word = french_tokenizer.index_word.get(word_index, \"<UNKNOWN>\")\n",
        "        french_sentence.append(word)\n",
        "    # Join the predicted words to form the translated sentence\n",
        "    return ' '.join(french_sentence)\n"
      ],
      "metadata": {
        "id": "RhFXtmx_jRzs"
      },
      "execution_count": null,
      "outputs": []
    },
    {
      "cell_type": "markdown",
      "source": [
        "Test the following sentence"
      ],
      "metadata": {
        "id": "XUQIcAjWz3bt"
      }
    },
    {
      "cell_type": "code",
      "execution_count": null,
      "metadata": {
        "id": "fDmNqnZIQMko",
        "colab": {
          "base_uri": "https://localhost:8080/"
        },
        "outputId": "da8a000b-0fe5-431a-e6ee-6b27152679d7"
      },
      "outputs": [
        {
          "output_type": "stream",
          "name": "stdout",
          "text": [
            "1/1 [==============================] - 4s 4s/step\n",
            "Input (English): she is driving the truck\n",
            "Translation (French): voiture voiture voiture voiture voiture\n"
          ]
        }
      ],
      "source": [
        "#input = \"she is driving the truck\"\n",
        "input=\"she is driving the truck\"\n",
        "\n",
        "translated_sentence = translate_english_to_french(input, model, english_tokenizer, french_tokenizer, max_seq_length)\n",
        "\n",
        "print(\"Input (English):\", input)\n",
        "print(\"Translation (French):\", translated_sentence)\n"
      ]
    },
    {
      "cell_type": "markdown",
      "source": [
        "Trying to improve the model by modifying the architecture to take into account bidirectionality which is very useful in Machine Translation. Create a new model called model2"
      ],
      "metadata": {
        "id": "wdI2XhaBz6CN"
      }
    },
    {
      "cell_type": "code",
      "source": [
        "import tensorflow as tf\n",
        "from tensorflow.keras.models import Model\n",
        "from tensorflow.keras.layers import Embedding, Bidirectional, LSTM, RepeatVector, Dense, Attention, Lambda\n",
        "from tensorflow.keras.preprocessing.sequence import pad_sequences\n",
        "\n",
        "\n",
        "# Create model2 with Bidirectional LSTM and Attention\n",
        "def create_model():\n",
        "    # Define the encoder\n",
        "    encoder_inputs = tf.keras.layers.Input(shape=(max_seq_length,))\n",
        "    encoder_embedding = Embedding(input_dim=english_vocab_size, output_dim=128)(encoder_inputs)\n",
        "    encoder_bilstm = Bidirectional(LSTM(256, return_sequences=True))(encoder_embedding)\n",
        "\n",
        "    # Define the decoder\n",
        "    decoder_inputs = tf.keras.layers.Input(shape=(max_seq_length,))\n",
        "    decoder_embedding = Embedding(input_dim=french_vocab_size, output_dim=128)(decoder_inputs)\n",
        "    decoder_lstm = LSTM(256, return_sequences=True)(decoder_embedding)\n",
        "    attention = Attention()([decoder_lstm, encoder_bilstm])\n",
        "    decoder_concat = tf.keras.layers.Concatenate(axis=-1)([decoder_lstm, attention])\n",
        "\n",
        "    decoder_dense = Dense(french_vocab_size, activation='softmax')\n",
        "    decoder_outputs = decoder_dense(decoder_concat)\n",
        "\n",
        "    # Create the model\n",
        "    model2 = Model([encoder_inputs, decoder_inputs], decoder_outputs)\n",
        "\n",
        "    # Print the model summary\n",
        "    model2.summary()\n",
        "\n"
      ],
      "metadata": {
        "id": "CfL6FptYDHhK"
      },
      "execution_count": null,
      "outputs": []
    },
    {
      "cell_type": "markdown",
      "source": [
        "compile and train the new model."
      ],
      "metadata": {
        "id": "EHDvxt9L0C21"
      }
    },
    {
      "cell_type": "code",
      "execution_count": null,
      "metadata": {
        "id": "iK1QvVmaTWI2"
      },
      "outputs": [],
      "source": [
        "model2.compile(optimizer='adam', loss='sparse_categorical_crossentropy', metrics=['accuracy'])\n",
        "\n",
        "# Train the model2 on the training data\n",
        "history = model2.fit(X_train, y_train, epochs=5, batch_size=64 , validation_data=(X_val, y_val))\n"
      ]
    },
    {
      "cell_type": "code",
      "source": [],
      "metadata": {
        "id": "_x4ylYCibtep"
      },
      "execution_count": null,
      "outputs": []
    },
    {
      "cell_type": "markdown",
      "source": [
        "Define a new function that relies on the new model to make predictions."
      ],
      "metadata": {
        "id": "CkpOI2JI0GBx"
      }
    },
    {
      "cell_type": "code",
      "execution_count": null,
      "metadata": {
        "id": "Gulu8OiXTbae"
      },
      "outputs": [],
      "source": [
        "from tensorflow.keras.preprocessing.sequence import pad_sequences\n",
        "\n",
        "def predict_translation(input_sentence, model2, english_tokenizer, french_tokenizer, max_seq_length):\n",
        "    # Tokenize and convert the input sentence to integer sequences\n",
        "    input_sequence = english_tokenizer.texts_to_sequences([input_sentence])\n",
        "    input_sequence = pad_sequences(input_sequence, maxlen=max_seq_length, padding='post')\n",
        "\n",
        "    # Use the model to predict the output sequence\n",
        "    output_sequence = model.predict(input_sequence)\n",
        "\n",
        "    # Initialize an empty list to store the predicted words\n",
        "    french_sentence = []\n",
        "\n",
        "    # Process the output sequence\n",
        "    for token in output_sequence[0]:\n",
        "        word_index = np.argmax(token)\n",
        "        if word_index == 0:\n",
        "            break\n",
        "        word = french_tokenizer.index_word.get(word_index, \"<UNKNOWN>\")\n",
        "        french_sentence.append(word)\n",
        "\n",
        "    # Join the predicted words to form the translated sentence\n",
        "    translated_sentence = ' '.join(french_sentence)\n",
        "\n",
        "    return translated_sentence\n"
      ]
    },
    {
      "cell_type": "code",
      "source": [
        "input = \"she is driving the truck\"\n",
        "translated_sentence = predict_translation(input, model2, english_tokenizer, french_tokenizer, max_seq_length)\n",
        "\n",
        "print(\"Input (English):\", input)\n",
        "print(\"Translation (French):\", translated_sentence)"
      ],
      "metadata": {
        "id": "8CO0pO6-UAeE",
        "colab": {
          "base_uri": "https://localhost:8080/"
        },
        "outputId": "d619bead-d95f-476b-e924-410798cacfde"
      },
      "execution_count": null,
      "outputs": [
        {
          "output_type": "stream",
          "name": "stdout",
          "text": [
            "1/1 [==============================] - 0s 39ms/step\n",
            "Input (English): she is driving the truck\n",
            "Translation (French): elle a conduit camion voiture\n"
          ]
        }
      ]
    }
  ],
  "metadata": {
    "colab": {
      "provenance": []
    },
    "kernelspec": {
      "display_name": "Python 3",
      "name": "python3"
    },
    "language_info": {
      "name": "python"
    }
  },
  "nbformat": 4,
  "nbformat_minor": 0
}